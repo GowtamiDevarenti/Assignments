{
 "cells": [
  {
   "cell_type": "markdown",
   "id": "b61cef6f",
   "metadata": {},
   "source": [
    "#1.What is the primary goal of Object-Oriented Programming (OOP)?\n",
    "The primary goal of Object-Oriented Programming (OOP) is to model real-world entities and their interactions in a program. OOP enables the organization of code into objects, which are instances of classes. These objects encapsulate data (attributes) and behavior (methods) related to a specific entity. The key principles of OOP include encapsulation, inheritance, polymorphism, and abstraction."
   ]
  },
  {
   "cell_type": "markdown",
   "id": "11efe3a3",
   "metadata": {},
   "source": [
    "#2.What is an object in Python?\n",
    "In Python, an object is an instance of a class. It is a concrete representation of the class, created from the class blueprint. Each object has its own set of attributes and can perform actions using its methods. Objects allow us to work with specific instances of data and behavior defined by the class."
   ]
  },
  {
   "cell_type": "markdown",
   "id": "39a4e75c",
   "metadata": {},
   "source": [
    "#3.What is a class in Python?\n",
    "A class in Python is a blueprint for creating objects with similar attributes and methods. It is a user-defined data type that defines the structure and behavior of objects. A class serves as a template that specifies how objects of that class should behave and what data they can hold."
   ]
  },
  {
   "cell_type": "markdown",
   "id": "d2929851",
   "metadata": {},
   "source": [
    "#4.What are attributes and methods in a class?\n",
    "Attributes are variables that hold data and represent the state of an object. They define the characteristics or properties of an object. Methods, on the other hand, are functions defined within a class that represent the behavior or actions that the objects of the class can perform."
   ]
  },
  {
   "cell_type": "markdown",
   "id": "e5fc8a43",
   "metadata": {},
   "source": [
    "#5.What is the difference between class variables and instance variables in Python?\n",
    "Class variables are shared among all instances (objects) of a class. They are defined within the class but outside any class method. Class variables are accessed using the class name and are the same for all instances of the class.\n",
    "\n",
    "Instance variables are specific to each instance (object) of the class. They are defined within the class methods using the self keyword. Instance variables represent unique data for each object, and their values can vary from one instance to another.\n",
    "\n"
   ]
  },
  {
   "cell_type": "markdown",
   "id": "284958c3",
   "metadata": {},
   "source": [
    "#6.What is the purpose of the self parameter in Python class methods?\n",
    "In Python class methods, the self parameter refers to the instance of the class itself. It is the first parameter of every instance method within a class. When a method is called on an object, Python automatically passes the object itself as the first argument (self) to the method.\n",
    "Using the self parameter, you can access and modify the instance variables and call other instance methods within the class. It allows methods to operate on the specific instance to which they belong, making it possible to maintain and modify the state of individual objects."
   ]
  },
  {
   "cell_type": "markdown",
   "id": "bcfae778",
   "metadata": {},
   "source": [
    "#7. For a library management system, you have to design the \"Book\" class with OOP\n",
    "principles in mind. The “Book” class will have following attributes:\n",
    "a. title: Represents the title of the book.\n",
    "b. author: Represents the author(s) of the book.\n",
    "c. isbn: Represents the ISBN (International Standard Book Number) of the book.\n",
    "d. publication_year: Represents the year of publication of the book.\n",
    "e. available_copies: Represents the number of copies available for checkout.\n",
    "The class will also include the following methods:\n",
    "a. check_out(self): Decrements the available copies by one if there are copies\n",
    "available for checkout.\n",
    "b. return_book(self): Increments the available copies by one when a book is\n",
    "returned.\n",
    "c. display_book_info(self): Displays the information about the book, including its\n",
    "attributes and the number of available copies."
   ]
  },
  {
   "cell_type": "markdown",
   "id": "88f8532e",
   "metadata": {},
   "source": [
    "To fulfill the requirements of the library management system and design the \"Book\" class with OOP principles, we can implement the class in Python. Below is the implementation of the \"Book\" class with the attributes and methods described:"
   ]
  },
  {
   "cell_type": "code",
   "execution_count": 2,
   "id": "ccd122f8",
   "metadata": {},
   "outputs": [
    {
     "name": "stdout",
     "output_type": "stream",
     "text": [
      "Title: Python Crash Course\n",
      "Author(s): Eric Matthes\n",
      "ISBN: 978-1593276034\n",
      "Publication Year: 2015\n",
      "Available Copies: 5\n",
      "Book 'Python Crash Course' checked out. Available copies: 4\n",
      "Book 'Python Crash Course' returned. Available copies: 5\n",
      "Book 'Python Crash Course' checked out. Available copies: 4\n"
     ]
    }
   ],
   "source": [
    "class Book:\n",
    "    def __init__(self, title, author, isbn, publication_year, available_copies):\n",
    "        self.title = title\n",
    "        self.author = author\n",
    "        self.isbn = isbn\n",
    "        self.publication_year = publication_year\n",
    "        self.available_copies = available_copies\n",
    "\n",
    "    def check_out(self):\n",
    "        if self.available_copies > 0:\n",
    "            self.available_copies -= 1\n",
    "            print(f\"Book '{self.title}' checked out. Available copies: {self.available_copies}\")\n",
    "        else:\n",
    "            print(f\"Sorry, no available copies of '{self.title}' for checkout.\")\n",
    "\n",
    "    def return_book(self):\n",
    "        self.available_copies += 1\n",
    "        print(f\"Book '{self.title}' returned. Available copies: {self.available_copies}\")\n",
    "\n",
    "    def display_book_info(self):\n",
    "        print(f\"Title: {self.title}\")\n",
    "        print(f\"Author(s): {self.author}\")\n",
    "        print(f\"ISBN: {self.isbn}\")\n",
    "        print(f\"Publication Year: {self.publication_year}\")\n",
    "        print(f\"Available Copies: {self.available_copies}\")\n",
    "\n",
    "# Test the Book class\n",
    "if __name__ == \"__main__\":\n",
    "    # Creating a Book instance\n",
    "    book1 = Book(\"Python Crash Course\", \"Eric Matthes\", \"978-1593276034\", 2015, 5)\n",
    "\n",
    "    # Display book info\n",
    "    book1.display_book_info()\n",
    "\n",
    "    # Checkout and return books\n",
    "    book1.check_out()\n",
    "    book1.return_book()\n",
    "\n",
    "    # Checkout when no available copies\n",
    "    book1.check_out()\n"
   ]
  },
  {
   "cell_type": "markdown",
   "id": "dd8fab8e",
   "metadata": {},
   "source": [
    "In the above implementation, we have defined the \"Book\" class with the attributes title, author, isbn, publication_year, and available_copies. The class has three methods:\n",
    "\n",
    "check_out(self): This method checks if there are available copies for checkout. If available, it decrements the available_copies attribute by one and prints a message indicating the successful checkout. If there are no available copies, it prints a message indicating that the book is not available for checkout.\n",
    "\n",
    "return_book(self): This method increments the available_copies attribute by one when a book is returned and prints a message indicating the successful return.\n",
    "\n",
    "display_book_info(self): This method displays information about the book, including its attributes and the number of available copies.\n",
    "\n",
    "In the test section, we create an instance of the \"Book\" class and demonstrate the methods by checking out and returning books. The output will display the book information and the status of available copies during these operations."
   ]
  },
  {
   "cell_type": "markdown",
   "id": "e0f5120e",
   "metadata": {},
   "source": [
    "#8. For a ticket booking system, you have to design the \"Ticket\" class with OOP\n",
    "principles in mind. The “Ticket” class should have the following attributes:\n",
    "a. ticket_id: Represents the unique identifier for the ticket.\n",
    "b. event_name: Represents the name of the event.\n",
    "c. event_date: Represents the date of the event.\n",
    "d. venue: Represents the venue of the event.\n",
    "e. seat_number: Represents the seat number associated with the ticket.\n",
    "f. price: Represents the price of the ticket.\n",
    "g. is_reserved: Represents the reservation status of the ticket.\n",
    "The class also includes the following methods:\n",
    "a. reserve_ticket(self): Marks the ticket as reserved if it is not already reserved.\n",
    "b. cancel_reservation(self): Cancels the reservation of the ticket if it is already\n",
    "reserved.\n",
    "c. display_ticket_info(self): Displays the information about the ticket, including its\n",
    "attributes and reservation status."
   ]
  },
  {
   "cell_type": "markdown",
   "id": "57b87945",
   "metadata": {},
   "source": [
    "To implement the \"Ticket\" class with the specified attributes and methods, we can create a Python class following the Object-Oriented Programming (OOP) principles. Here's the implementation of the \"Ticket\" class:"
   ]
  },
  {
   "cell_type": "code",
   "execution_count": 3,
   "id": "e0a7eb24",
   "metadata": {},
   "outputs": [
    {
     "name": "stdout",
     "output_type": "stream",
     "text": [
      "Ticket ID: 1\n",
      "Event Name: Concert\n",
      "Event Date: 2023-08-15\n",
      "Venue: Stadium A\n",
      "Seat Number: A101\n",
      "Price: 50 USD\n",
      "Reservation Status: not reserved\n",
      "------------------------------\n",
      "Ticket ID: 2\n",
      "Event Name: Theater Show\n",
      "Event Date: 2023-08-20\n",
      "Venue: Theater B\n",
      "Seat Number: B205\n",
      "Price: 30 USD\n",
      "Reservation Status: not reserved\n",
      "------------------------------\n",
      "Ticket 1 has been reserved.\n",
      "Ticket 2 has been reserved.\n",
      "Reservation of Ticket 1 has been canceled.\n",
      "Reservation of Ticket 2 has been canceled.\n",
      "Ticket ID: 1\n",
      "Event Name: Concert\n",
      "Event Date: 2023-08-15\n",
      "Venue: Stadium A\n",
      "Seat Number: A101\n",
      "Price: 50 USD\n",
      "Reservation Status: not reserved\n",
      "------------------------------\n",
      "Ticket ID: 2\n",
      "Event Name: Theater Show\n",
      "Event Date: 2023-08-20\n",
      "Venue: Theater B\n",
      "Seat Number: B205\n",
      "Price: 30 USD\n",
      "Reservation Status: not reserved\n",
      "------------------------------\n"
     ]
    }
   ],
   "source": [
    "class Ticket:\n",
    "    def __init__(self, ticket_id, event_name, event_date, venue, seat_number, price):\n",
    "        self.ticket_id = ticket_id\n",
    "        self.event_name = event_name\n",
    "        self.event_date = event_date\n",
    "        self.venue = venue\n",
    "        self.seat_number = seat_number\n",
    "        self.price = price\n",
    "        self.is_reserved = False\n",
    "\n",
    "    def reserve_ticket(self):\n",
    "        if not self.is_reserved:\n",
    "            self.is_reserved = True\n",
    "            print(f\"Ticket {self.ticket_id} has been reserved.\")\n",
    "        else:\n",
    "            print(f\"Ticket {self.ticket_id} is already reserved.\")\n",
    "\n",
    "    def cancel_reservation(self):\n",
    "        if self.is_reserved:\n",
    "            self.is_reserved = False\n",
    "            print(f\"Reservation of Ticket {self.ticket_id} has been canceled.\")\n",
    "        else:\n",
    "            print(f\"Ticket {self.ticket_id} is not reserved.\")\n",
    "\n",
    "    def display_ticket_info(self):\n",
    "        reserved_status = \"reserved\" if self.is_reserved else \"not reserved\"\n",
    "        print(f\"Ticket ID: {self.ticket_id}\")\n",
    "        print(f\"Event Name: {self.event_name}\")\n",
    "        print(f\"Event Date: {self.event_date}\")\n",
    "        print(f\"Venue: {self.venue}\")\n",
    "        print(f\"Seat Number: {self.seat_number}\")\n",
    "        print(f\"Price: {self.price} USD\")\n",
    "        print(f\"Reservation Status: {reserved_status}\")\n",
    "        print(\"-\" * 30)\n",
    "\n",
    "\n",
    "# Example usage:\n",
    "if __name__ == \"__main__\":\n",
    "    # Creating Ticket objects\n",
    "    ticket1 = Ticket(1, \"Concert\", \"2023-08-15\", \"Stadium A\", \"A101\", 50)\n",
    "    ticket2 = Ticket(2, \"Theater Show\", \"2023-08-20\", \"Theater B\", \"B205\", 30)\n",
    "\n",
    "    # Display ticket information\n",
    "    ticket1.display_ticket_info()\n",
    "    ticket2.display_ticket_info()\n",
    "\n",
    "    # Reserve tickets\n",
    "    ticket1.reserve_ticket()\n",
    "    ticket2.reserve_ticket()\n",
    "\n",
    "    # Cancel reservation\n",
    "    ticket1.cancel_reservation()\n",
    "    ticket2.cancel_reservation()\n",
    "\n",
    "    # Display ticket information after reservation\n",
    "    ticket1.display_ticket_info()\n",
    "    ticket2.display_ticket_info()\n"
   ]
  },
  {
   "cell_type": "markdown",
   "id": "b243fe62",
   "metadata": {},
   "source": [
    "In this implementation, we define the \"Ticket\" class with the given attributes and methods:\n",
    "\n",
    "__init__: The constructor initializes the attributes of the ticket.\n",
    "reserve_ticket: Marks the ticket as reserved if it is not already reserved.\n",
    "cancel_reservation: Cancels the reservation of the ticket if it is already reserved.\n",
    "display_ticket_info: Displays the information about the ticket, including its attributes and reservation status.\n",
    "The example usage section demonstrates the usage of the \"Ticket\" class by creating two ticket objects and performing reservation and cancellation operations on them. The output will show the ticket information and the status of the reservation.\n",
    "\n",
    "Please note that the example usage section should be run in a Python environment to see the output. Additionally, you can further customize the class and add additional methods as per your specific requirements."
   ]
  },
  {
   "cell_type": "markdown",
   "id": "f7ea44d2",
   "metadata": {},
   "source": [
    "#9. You are creating a shopping cart for an e-commerce website. Using OOP to model\n",
    "the \"ShoppingCart\" functionality the class should contain following attributes and\n",
    "methods:\n",
    "a. items: Represents the list of items in the shopping cart.\n",
    "The class also includes the following methods:\n",
    "\n",
    "a. add_item(self, item): Adds an item to the shopping cart by appending it to the\n",
    "list of items.\n",
    "b. remove_item(self, item): Removes an item from the shopping cart if it exists in\n",
    "the list.\n",
    "c. view_cart(self): Displays the items currently present in the shopping cart.\n",
    "d. clear_cart(self): Clears all items from the shopping cart by reassigning an\n",
    "empty list to the items attribute."
   ]
  },
  {
   "cell_type": "markdown",
   "id": "f360b31a",
   "metadata": {},
   "source": [
    "\n",
    "Sure! Below is the implementation of the \"ShoppingCart\" class according to the provided guidelines:"
   ]
  },
  {
   "cell_type": "code",
   "execution_count": 4,
   "id": "20773c90",
   "metadata": {},
   "outputs": [
    {
     "name": "stdout",
     "output_type": "stream",
     "text": [
      "Items in the shopping cart:\n",
      "- Item 1\n",
      "- Item 2\n",
      "- Item 3\n",
      "Items in the shopping cart:\n",
      "- Item 1\n",
      "- Item 3\n",
      "The shopping cart is empty.\n"
     ]
    }
   ],
   "source": [
    "class ShoppingCart:\n",
    "    def __init__(self):\n",
    "        self.items = []\n",
    "\n",
    "    def add_item(self, item):\n",
    "        self.items.append(item)\n",
    "\n",
    "    def remove_item(self, item):\n",
    "        if item in self.items:\n",
    "            self.items.remove(item)\n",
    "        else:\n",
    "            print(f\"{item} is not present in the shopping cart.\")\n",
    "\n",
    "    def view_cart(self):\n",
    "        if not self.items:\n",
    "            print(\"The shopping cart is empty.\")\n",
    "        else:\n",
    "            print(\"Items in the shopping cart:\")\n",
    "            for item in self.items:\n",
    "                print(\"-\", item)\n",
    "\n",
    "    def clear_cart(self):\n",
    "        self.items = []\n",
    "\n",
    "def main():\n",
    "    # Create a shopping cart\n",
    "    cart = ShoppingCart()\n",
    "\n",
    "    # Add items to the cart\n",
    "    cart.add_item(\"Item 1\")\n",
    "    cart.add_item(\"Item 2\")\n",
    "    cart.add_item(\"Item 3\")\n",
    "\n",
    "    # View the cart\n",
    "    cart.view_cart()\n",
    "\n",
    "    # Remove an item from the cart\n",
    "    cart.remove_item(\"Item 2\")\n",
    "\n",
    "    # View the cart again\n",
    "    cart.view_cart()\n",
    "\n",
    "    # Clear the cart\n",
    "    cart.clear_cart()\n",
    "\n",
    "    # View the cart after clearing\n",
    "    cart.view_cart()\n",
    "\n",
    "if __name__ == \"__main__\":\n",
    "    main()\n"
   ]
  },
  {
   "cell_type": "markdown",
   "id": "5c850f05",
   "metadata": {},
   "source": [
    "In this implementation, we define the \"ShoppingCart\" class with attributes and methods as described in the guidelines.\n",
    "\n",
    "The __init__ method initializes the \"items\" attribute as an empty list when a new object of the class is created.\n",
    "\n",
    "The add_item method allows adding an item to the shopping cart by appending it to the \"items\" list.\n",
    "\n",
    "The remove_item method removes an item from the shopping cart if it exists in the \"items\" list. If the item is not present, it prints a message indicating that the item is not in the cart.\n",
    "\n",
    "The view_cart method displays the items currently present in the shopping cart. If the cart is empty, it prints a message indicating that the cart is empty.\n",
    "\n",
    "The clear_cart method clears all items from the shopping cart by reassigning an empty list to the \"items\" attribute.\n",
    "\n",
    "In the main() function, we create a ShoppingCart object, add some items, view the cart, remove an item, view the cart again, clear the cart, and then view the cart after clearing it."
   ]
  },
  {
   "cell_type": "markdown",
   "id": "beb165c9",
   "metadata": {},
   "source": [
    "#10. Imagine a school management system. You have to design the \"Student\" class using\n",
    "OOP concepts.The “Student” class has the following attributes:\n",
    "a. name: Represents the name of the student.\n",
    "b. age: Represents the age of the student.\n",
    "c. grade: Represents the grade or class of the student.\n",
    "d. student_id: Represents the unique identifier for the student.\n",
    "e. attendance: Represents the attendance record of the student.\n",
    "The class should also include the following methods:\n",
    "a. update_attendance(self, date, status): Updates the attendance record of the\n",
    "student for a given date with the provided status (e.g., present or absent).\n",
    "b. get_attendance(self): Returns the attendance record of the student.\n",
    "c. get_average_attendance(self): Calculates and returns the average\n",
    "attendance percentage of the student based on their attendance record."
   ]
  },
  {
   "cell_type": "markdown",
   "id": "d5ee4659",
   "metadata": {},
   "source": [
    "Ans:To design the \"Student\" class using OOP concepts, we'll implement the class with the given attributes and methods as described in the guidelines. Below is the Python code for the \"Student\" class:"
   ]
  },
  {
   "cell_type": "code",
   "execution_count": 5,
   "id": "4ed22445",
   "metadata": {},
   "outputs": [
    {
     "name": "stdout",
     "output_type": "stream",
     "text": [
      "Attendance Record:\n",
      "{'2023-07-20': 'present', '2023-07-21': 'present', '2023-07-22': 'absent'}\n",
      "Average Attendance Percentage: 66.67\n"
     ]
    }
   ],
   "source": [
    "class Student:\n",
    "    def __init__(self, name, age, grade, student_id):\n",
    "        self.name = name\n",
    "        self.age = age\n",
    "        self.grade = grade\n",
    "        self.student_id = student_id\n",
    "        self.attendance = {}  # Dictionary to store attendance records (date: status)\n",
    "\n",
    "    def update_attendance(self, date, status):\n",
    "        \"\"\"\n",
    "        Updates the attendance record of the student for a given date with the provided status.\n",
    "        :param date: The date for which attendance is to be updated.\n",
    "        :param status: The status for the given date (e.g., \"present\" or \"absent\").\n",
    "        \"\"\"\n",
    "        self.attendance[date] = status\n",
    "\n",
    "    def get_attendance(self):\n",
    "        \"\"\"\n",
    "        Returns the attendance record of the student.\n",
    "        :return: A dictionary containing the attendance record (date: status).\n",
    "        \"\"\"\n",
    "        return self.attendance\n",
    "\n",
    "    def get_average_attendance(self):\n",
    "        \"\"\"\n",
    "        Calculates and returns the average attendance percentage of the student.\n",
    "        :return: The average attendance percentage as a float rounded to two decimal places.\n",
    "        \"\"\"\n",
    "        total_days = len(self.attendance)\n",
    "        if total_days == 0:\n",
    "            return 0.0\n",
    "\n",
    "        present_days = sum(status == \"present\" for status in self.attendance.values())\n",
    "        average_attendance = (present_days / total_days) * 100\n",
    "        return round(average_attendance, 2)\n",
    "\n",
    "# Example usage of the Student class\n",
    "if __name__ == \"__main__\":\n",
    "    student1 = Student(\"John Doe\", 15, \"10th Grade\", \"STU12345\")\n",
    "\n",
    "    student1.update_attendance(\"2023-07-20\", \"present\")\n",
    "    student1.update_attendance(\"2023-07-21\", \"present\")\n",
    "    student1.update_attendance(\"2023-07-22\", \"absent\")\n",
    "\n",
    "    print(\"Attendance Record:\")\n",
    "    print(student1.get_attendance())\n",
    "    print(\"Average Attendance Percentage:\", student1.get_average_attendance())\n"
   ]
  },
  {
   "cell_type": "markdown",
   "id": "b6e54fa4",
   "metadata": {},
   "source": [
    "In this implementation, we create a Student class with an __init__ method to initialize the attributes for each student object. The attendance attribute is initialized as an empty dictionary to store attendance records.\n",
    "\n",
    "The update_attendance method allows us to update the attendance record for a given date with the provided status (either \"present\" or \"absent\").\n",
    "\n",
    "The get_attendance method returns the entire attendance record as a dictionary.\n",
    "\n",
    "The get_average_attendance method calculates and returns the average attendance percentage based on the student's attendance record.\n",
    "\n",
    "The example usage at the end demonstrates how to create a student object, update attendance, and obtain the attendance record and average attendance percentage.\n",
    "\n",
    "Please note that this code is for demonstration purposes and doesn't include input validation or error handling. In a real-world application, you would likely include additional checks and validations to ensure data integrity and prevent errors."
   ]
  }
 ],
 "metadata": {
  "kernelspec": {
   "display_name": "Python 3 (ipykernel)",
   "language": "python",
   "name": "python3"
  },
  "language_info": {
   "codemirror_mode": {
    "name": "ipython",
    "version": 3
   },
   "file_extension": ".py",
   "mimetype": "text/x-python",
   "name": "python",
   "nbconvert_exporter": "python",
   "pygments_lexer": "ipython3",
   "version": "3.10.9"
  }
 },
 "nbformat": 4,
 "nbformat_minor": 5
}
