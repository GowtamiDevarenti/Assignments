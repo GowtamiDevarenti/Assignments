{
 "cells": [
  {
   "cell_type": "markdown",
   "id": "4bfb3167",
   "metadata": {},
   "source": [
    "#1.What is the role of the 'else' block in a try-except statement? \n",
    "Ans.The 'else' block in a try-except statement is executed only if there is no exception raised in the corresponding 'try' block. It is useful when you want to perform some actions if no exceptions occurred."
   ]
  },
  {
   "cell_type": "code",
   "execution_count": 13,
   "id": "01f72a65",
   "metadata": {},
   "outputs": [
    {
     "name": "stdout",
     "output_type": "stream",
     "text": [
      "Division result: 5.0\n",
      "Error: Cannot divide by zero!\n"
     ]
    }
   ],
   "source": [
    "def divide(a, b):\n",
    "    try:\n",
    "        result = a / b\n",
    "    except ZeroDivisionError:\n",
    "        print(\"Error: Cannot divide by zero!\")\n",
    "    else:\n",
    "        print(\"Division result:\", result)\n",
    "\n",
    "divide(10, 2)  # Output: Division result: 5.0\n",
    "divide(10, 0)  # Output: Error: Cannot divide by zero!\n"
   ]
  },
  {
   "cell_type": "markdown",
   "id": "bb6a92ee",
   "metadata": {},
   "source": [
    "Here's an example scenario where the 'else' block can be useful:"
   ]
  },
  {
   "cell_type": "markdown",
   "id": "21ea4829",
   "metadata": {},
   "source": [
    "#2. Can a try-except block be nested inside another try-except block? Explain with an\n",
    "example.\n",
    "Ans.Yes, a try-except block can be nested inside another try-except block. This allows handling different types of exceptions at different levels of code."
   ]
  },
  {
   "cell_type": "code",
   "execution_count": 14,
   "id": "6cda644f",
   "metadata": {},
   "outputs": [
    {
     "name": "stdout",
     "output_type": "stream",
     "text": [
      "Result squared: 25.0\n",
      "Error: Cannot divide by zero!\n"
     ]
    }
   ],
   "source": [
    "def nested_example(a, b):\n",
    "    try:\n",
    "        result = a / b\n",
    "        try:\n",
    "            print(\"Result squared:\", result ** 2)\n",
    "        except TypeError:\n",
    "            print(\"Error: Result cannot be squared due to a TypeError.\")\n",
    "    except ZeroDivisionError:\n",
    "        print(\"Error: Cannot divide by zero!\")\n",
    "\n",
    "nested_example(10, 2)  # Output: Result squared: 25.0\n",
    "nested_example(10, 0)  # Output: Error: Cannot divide by zero!\n"
   ]
  },
  {
   "cell_type": "markdown",
   "id": "209784e1",
   "metadata": {},
   "source": [
    "#3. How can you create a custom exception class in Python? Provide an example that\n",
    "demonstrates its usage.\n",
    "Ans.You can create a custom exception class by inheriting from the Exception class or one of its subclasses.\n",
    "\n",
    "Example:"
   ]
  },
  {
   "cell_type": "code",
   "execution_count": 16,
   "id": "cd1a6d85",
   "metadata": {},
   "outputs": [
    {
     "name": "stdout",
     "output_type": "stream",
     "text": [
      "Error: Invalid data type. Expected an integer.\n"
     ]
    }
   ],
   "source": [
    "class CustomError(Exception):\n",
    "    pass\n",
    "\n",
    "def process_data(data):\n",
    "    if not isinstance(data, int):\n",
    "        raise CustomError(\"Invalid data type. Expected an integer.\")\n",
    "    # Process the data here...\n",
    "\n",
    "try:\n",
    "    process_data(\"Hello\")\n",
    "except CustomError as e:\n",
    "    print(\"Error:\", e)  # Output: Error: Invalid data type. Expected an integer.\n"
   ]
  },
  {
   "cell_type": "markdown",
   "id": "01c804c7",
   "metadata": {},
   "source": [
    "#4. What are some common exceptions that are built-in to Python?\n",
    "Ans:Some common built-in exceptions in Python include:\n",
    "\n",
    "ZeroDivisionError: Raised when dividing by zero.\n",
    "TypeError: Raised when an operation or function is applied to an object of inappropriate type.\n",
    "ValueError: Raised when a function receives an argument of the correct type but an inappropriate value.\n",
    "IndexError: Raised when trying to access an index that is out of range.\n",
    "KeyError: Raised when trying to access a non-existent key in a dictionary.\n",
    "FileNotFoundError: Raised when trying to open a file that does not exist.\n",
    "ImportError: Raised when a module or package cannot be imported.\n",
    "NameError: Raised when a variable is not defined."
   ]
  },
  {
   "cell_type": "markdown",
   "id": "c9a04c31",
   "metadata": {},
   "source": [
    "#5. What is logging in Python, and why is it important in software development?\n",
    "Ans:Logging in Python is a way of recording information about an application's execution. It allows developers to keep track of what the application is doing, identify errors, and gather information for debugging and monitoring purposes. Logging is important because:\n",
    "\n",
    "It provides a way to trace the flow of execution and diagnose issues in applications.\n",
    "It helps in understanding the behavior of a program when running in production environments.\n",
    "Logging can be used to collect performance metrics and usage statistics.\n",
    "It allows developers to identify potential security issues or unauthorized access attempts."
   ]
  },
  {
   "cell_type": "markdown",
   "id": "904d9fe2",
   "metadata": {},
   "source": [
    "#6. Explain the purpose of log levels in Python logging and provide examples of when\n",
    "each log level would be appropriate.\n",
    "Ans:Python logging provides different log levels to categorize log messages based on their severity. The common log levels are, in increasing order of severity:\n",
    "\n",
    "DEBUG: Detailed information, typically used for debugging purposes.\n",
    "INFO: General information about the program's execution.\n",
    "WARNING: Indicates potential issues or unusual situations that do not necessarily cause errors.\n",
    "ERROR: Indicates errors that can be recovered from.\n",
    "CRITICAL: Indicates critical errors that may lead to the termination of the program.\n",
    "Example:"
   ]
  },
  {
   "cell_type": "code",
   "execution_count": 17,
   "id": "161829c7",
   "metadata": {},
   "outputs": [
    {
     "ename": "NameError",
     "evalue": "name 'some_data' is not defined",
     "output_type": "error",
     "traceback": [
      "\u001b[1;31m---------------------------------------------------------------------------\u001b[0m",
      "\u001b[1;31mNameError\u001b[0m                                 Traceback (most recent call last)",
      "Cell \u001b[1;32mIn[17], line 14\u001b[0m\n\u001b[0;32m     11\u001b[0m     \u001b[38;5;28;01mif\u001b[39;00m critical_failure:\n\u001b[0;32m     12\u001b[0m         logging\u001b[38;5;241m.\u001b[39mcritical(\u001b[38;5;124m\"\u001b[39m\u001b[38;5;124mCritical failure. Aborting operation.\u001b[39m\u001b[38;5;124m\"\u001b[39m)\n\u001b[1;32m---> 14\u001b[0m process_data(\u001b[43msome_data\u001b[49m)\n",
      "\u001b[1;31mNameError\u001b[0m: name 'some_data' is not defined"
     ]
    }
   ],
   "source": [
    "import logging\n",
    "\n",
    "logging.basicConfig(level=logging.DEBUG)\n",
    "\n",
    "def process_data(data):\n",
    "    logging.debug(\"Processing data: %s\", data)\n",
    "    # ... processing logic ...\n",
    "    logging.warning(\"Data processing completed, but with some warnings.\")\n",
    "    if error_occurred:\n",
    "        logging.error(\"An error occurred during data processing.\")\n",
    "    if critical_failure:\n",
    "        logging.critical(\"Critical failure. Aborting operation.\")\n",
    "\n",
    "process_data(some_data)\n"
   ]
  },
  {
   "cell_type": "markdown",
   "id": "f75094a2",
   "metadata": {},
   "source": [
    "#7. What are log formatters in Python logging, and how can you customise the log\n",
    "message format using formatters?\n",
    "Ans:Log formatters in Python logging are used to customize the way log messages are presented in the output. They define the structure and content of log records. Python provides a Formatter class to create custom log message formats."
   ]
  },
  {
   "cell_type": "code",
   "execution_count": null,
   "id": "bc632a9a",
   "metadata": {},
   "outputs": [],
   "source": [
    "import logging\n",
    "\n",
    "logging.basicConfig(format='%(asctime)s - %(levelname)s - %(message)s', level=logging.INFO)\n",
    "\n",
    "def some_function():\n",
    "    logging.info(\"This is an informational message.\")\n",
    "\n",
    "some_function()\n"
   ]
  },
  {
   "cell_type": "markdown",
   "id": "9e1bcb60",
   "metadata": {},
   "source": [
    "In the above example, we used a custom format where:\n",
    "\n",
    "%(asctime)s: Represents the timestamp of the log record.\n",
    "%(levelname)s: Represents the log level (e.g., INFO, WARNING, ERROR).\n",
    "%(message)s: Represents the actual log message."
   ]
  },
  {
   "cell_type": "markdown",
   "id": "52ed40af",
   "metadata": {},
   "source": [
    "#8. How can you set up logging to capture log messages from multiple modules or\n",
    "classes in a Python application?\n",
    "Ans:To capture log messages from multiple modules or classes in a Python application, you can configure a root logger using logging.basicConfig() and then define loggers for specific modules or classes using the logging.getLogger() method."
   ]
  },
  {
   "cell_type": "code",
   "execution_count": null,
   "id": "c6bfa22e",
   "metadata": {},
   "outputs": [],
   "source": [
    "import logging\n",
    "\n",
    "logging.basicConfig(level=logging.DEBUG)\n",
    "\n",
    "# Create a logger for module A\n",
    "logger_module_a = logging.getLogger('module_a')\n",
    "\n",
    "# Create a logger for class B\n",
    "logger_class_b = logging.getLogger('module_a.ClassB')\n",
    "\n",
    "def some_function():\n",
    "    logger_module_a.debug(\"Message from module A.\")\n",
    "    logger_class_b.info(\"Message from Class B.\")\n",
    "\n",
    "some_function()\n"
   ]
  },
  {
   "cell_type": "markdown",
   "id": "d167baea",
   "metadata": {},
   "source": [
    "#9. What is the difference between the logging and print statements in Python? When\n",
    "should you use logging over print statements in a real-world application?\n",
    "Ans:The main differences between logging and print statements in Python are:\n",
    "\n",
    "Output Stream: print sends its output to the standard output stream (stdout), whereas logging sends its output to a variety of destinations (e.g., file, console, network) based on the logging configuration.\n",
    "\n",
    "Flexibility: logging provides different log levels, loggers, and handlers, allowing fine-grained control over what to log and where to log it. print statements, on the other hand, are simple and do not offer such configurability.\n",
    "\n",
    "Log Levels: Logging allows you to categorize log messages based on their severity, which is crucial for identifying and dealing with issues at different levels of importance. print statements are just meant for simple debugging and don't offer such differentiation.\n",
    "\n",
    "In real-world applications, it is generally better to use logging over print statements because:\n",
    "\n",
    "print statements can clutter the code, and removing them one by one for the final production version can be cumbersome.\n",
    "logging provides more control over logging behavior without modifying the code.\n",
    "In production environments, logging allows"
   ]
  },
  {
   "cell_type": "markdown",
   "id": "067319e6",
   "metadata": {},
   "source": [
    "#10. Write a Python program that logs a message to a file named \"app.log\" with the\n",
    "following requirements:\n",
    "● The log message should be \"Hello, World!\"\n",
    "● The log level should be set to \"INFO.\"\n",
    "● The log file should append new log entries without overwriting previous ones.\n",
    "Ans:To achieve the given requirements, you can use the Python logging module and configure it to log messages to a file in INFO log level. Here's a Python program that meets the specified requirements:"
   ]
  },
  {
   "cell_type": "code",
   "execution_count": null,
   "id": "5358e110",
   "metadata": {},
   "outputs": [],
   "source": [
    "import logging\n",
    "\n",
    "def setup_logger():\n",
    "    # Create a logger\n",
    "    logger = logging.getLogger('my_app_logger')\n",
    "    logger.setLevel(logging.INFO)\n",
    "\n",
    "    # Create a file handler and set it to append mode\n",
    "    file_handler = logging.FileHandler('app.log', mode='a')\n",
    "\n",
    "    # Create a formatter to define the log message format\n",
    "    formatter = logging.Formatter('%(asctime)s - %(levelname)s - %(message)s')\n",
    "\n",
    "    # Set the formatter for the file handler\n",
    "    file_handler.setFormatter(formatter)\n",
    "\n",
    "    # Add the file handler to the logger\n",
    "    logger.addHandler(file_handler)\n",
    "\n",
    "    return logger\n",
    "\n",
    "def main():\n",
    "    logger = setup_logger()\n",
    "\n",
    "    # Log the message\n",
    "    logger.info(\"Hello, World!\")\n",
    "\n",
    "if __name__ == \"__main__\":\n",
    "    main()\n"
   ]
  },
  {
   "cell_type": "markdown",
   "id": "bd16f026",
   "metadata": {},
   "source": [
    "In this program, we first define a function setup_logger() that configures the logger with the specified log level, log file (app.log), and log message format. The log file is set to append mode ('a') to ensure new log entries are appended to the existing file without overwriting.\n",
    "\n",
    "The main() function sets up the logger using setup_logger() and logs the message \"Hello, World!\" using the info() method. When you run this program, it will create or append to the \"app.log\" file with the log message in the specified format and log level."
   ]
  },
  {
   "cell_type": "markdown",
   "id": "718baa99",
   "metadata": {},
   "source": [
    "#11. Create a Python program that logs an error message to the console and a file named\n",
    "\"errors.log\" if an exception occurs during the program's execution. The error\n",
    "message should include the exception type and a timestamp.\n",
    "Ans:To achieve the given requirements, you can use the Python logging module and set up two handlers—one for logging to the console and another for logging to the \"errors.log\" file. We'll configure the logger to capture any exceptions that occur during the program's execution and log them with the required information. Here's the Python program:\n"
   ]
  },
  {
   "cell_type": "code",
   "execution_count": null,
   "id": "e90f8ea6",
   "metadata": {},
   "outputs": [],
   "source": [
    "import logging\n",
    "import traceback\n",
    "\n",
    "def setup_logger():\n",
    "    # Create a logger\n",
    "    logger = logging.getLogger('my_error_logger')\n",
    "    logger.setLevel(logging.ERROR)\n",
    "\n",
    "    # Create a console handler\n",
    "    console_handler = logging.StreamHandler()\n",
    "    console_handler.setLevel(logging.ERROR)\n",
    "\n",
    "    # Create a file handler and set it to append mode\n",
    "    file_handler = logging.FileHandler('errors.log', mode='a')\n",
    "    file_handler.setLevel(logging.ERROR)\n",
    "\n",
    "    # Create a formatter to define the log message format\n",
    "    formatter = logging.Formatter('%(asctime)s - %(levelname)s - %(message)s')\n",
    "\n",
    "    # Set the formatter for the handlers\n",
    "    console_handler.setFormatter(formatter)\n",
    "    file_handler.setFormatter(formatter)\n",
    "\n",
    "    # Add the handlers to the logger\n",
    "    logger.addHandler(console_handler)\n",
    "    logger.addHandler(file_handler)\n",
    "\n",
    "    return logger\n",
    "\n",
    "def main():\n",
    "    logger = setup_logger()\n",
    "\n",
    "    try:\n",
    "        # Your main program logic here\n",
    "        # For demonstration purposes, let's raise an exception\n",
    "        raise ValueError(\"This is a sample error.\")\n",
    "    except Exception as e:\n",
    "        # Log the error message with the exception type and timestamp\n",
    "        error_message = f\"Exception occurred: {type(e).__name__}. {e}\"\n",
    "        logger.error(error_message)\n",
    "        logger.error(traceback.format_exc())  # Log the traceback for detailed error information\n",
    "\n",
    "if __name__ == \"__main__\":\n",
    "    main()\n"
   ]
  },
  {
   "cell_type": "markdown",
   "id": "c963a225",
   "metadata": {},
   "source": [
    "In this program, we define a function setup_logger() that configures the logger with an error log level. We create two handlers—one for the console (console_handler) and another for the \"errors.log\" file (file_handler). Both handlers are set to capture log messages with an error log level or higher.\n",
    "\n",
    "In the main() function, we simulate an exception by raising a ValueError for demonstration purposes. You can replace this with your actual program logic that might raise exceptions. If an exception occurs, we capture the error message, the exception type, and the traceback using traceback.format_exc(). We then log this information to both the console and the \"errors.log\" file using the logger's error() method.\n",
    "\n",
    "When you run this program, any exceptions that occur during execution will be logged to the console and appended to the \"errors.log\" file with the required information."
   ]
  }
 ],
 "metadata": {
  "kernelspec": {
   "display_name": "Python 3 (ipykernel)",
   "language": "python",
   "name": "python3"
  },
  "language_info": {
   "codemirror_mode": {
    "name": "ipython",
    "version": 3
   },
   "file_extension": ".py",
   "mimetype": "text/x-python",
   "name": "python",
   "nbconvert_exporter": "python",
   "pygments_lexer": "ipython3",
   "version": "3.10.9"
  }
 },
 "nbformat": 4,
 "nbformat_minor": 5
}
